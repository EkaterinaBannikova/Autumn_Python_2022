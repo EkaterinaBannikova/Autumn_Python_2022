{
 "cells": [
  {
   "cell_type": "markdown",
   "metadata": {},
   "source": [
    "# Домашняя работа №5\n"
   ]
  },
  {
   "cell_type": "markdown",
   "metadata": {},
   "source": [
    "# Банникова Екатерина НПМбд-02-19"
   ]
  },
  {
   "cell_type": "markdown",
   "metadata": {},
   "source": [
    "# Решение СЛАУ методом LU-разложения и методом LUP-разложения"
   ]
  },
  {
   "cell_type": "markdown",
   "metadata": {},
   "source": [
    "# 1) Решение СЛАУ методом LU-разложения"
   ]
  },
  {
   "cell_type": "markdown",
   "metadata": {},
   "source": [
    "LU-разложение  — представление матрицы A в виде произведения двух матриц, A = LU, где L — нижняя треугольная матрица, а U — верхняя треугольная матрица.\n",
    "LU-разложение используется для решения систем линейных уравнений, обращения матриц и вычисления определителя. LU-разложение существует только в том случае, когда матрица A обратима, а все ведущие (угловые) главные миноры матрицы A невырождены."
   ]
  },
  {
   "cell_type": "code",
   "execution_count": 28,
   "metadata": {},
   "outputs": [],
   "source": [
    "import numpy as np"
   ]
  },
  {
   "cell_type": "markdown",
   "metadata": {},
   "source": [
    "функция LU-разложения матрицы коэффициентов:"
   ]
  },
  {
   "cell_type": "code",
   "execution_count": 29,
   "metadata": {},
   "outputs": [],
   "source": [
    "def LU_decomposition(A):\n",
    "    LU = np.array(A, float)\n",
    "    for k in range(LU.shape[0]-1):\n",
    "        LU[k+1:, k] /= LU[k, k]\n",
    "        LU[k+1:, k+1:] -= np.transpose([LU[k+1:, k]]) * LU[k, k+1:]\n",
    "    return LU"
   ]
  },
  {
   "cell_type": "markdown",
   "metadata": {},
   "source": [
    "функция получения треугольных матриц L и U из матрицы LU:"
   ]
  },
  {
   "cell_type": "code",
   "execution_count": 30,
   "metadata": {},
   "outputs": [],
   "source": [
    "def L_and_U(LU):\n",
    "    L = np.array(LU, float)\n",
    "    U = np.array(LU, float)\n",
    "    for i in range(LU.shape[0]):\n",
    "        L[i, i] = 1\n",
    "        L[i, i+1:] = 0\n",
    "        U[i, :i] = 0\n",
    "    return L, U"
   ]
  },
  {
   "cell_type": "markdown",
   "metadata": {},
   "source": [
    "функция для решения системы уравнений, исходя из полученного LU-разложения:"
   ]
  },
  {
   "cell_type": "code",
   "execution_count": 31,
   "metadata": {},
   "outputs": [],
   "source": [
    "def solve_LU(LU, b):\n",
    "    y = np.array(b, float)\n",
    "    for i in range(1, len(y)):\n",
    "        y[i] = b[i] - np.dot(LU[i, :i], y[:i])\n",
    "    x = np.array(y)\n",
    "    for i in range(len(y)-1, -1, -1):\n",
    "        x[i] = (y[i] - np.dot(LU[i, i+1:], x[i+1:])) / LU[i, i]\n",
    "    return x"
   ]
  },
  {
   "cell_type": "markdown",
   "metadata": {},
   "source": [
    "функция для решения системы уравнений:\n"
   ]
  },
  {
   "cell_type": "code",
   "execution_count": 32,
   "metadata": {},
   "outputs": [],
   "source": [
    "def decompose_to_LU_and_solve(A, b):\n",
    "    LU = LU_decomposition(A)\n",
    "    return solve_LU(LU, b)"
   ]
  },
  {
   "cell_type": "markdown",
   "metadata": {},
   "source": [
    "функция для проверки на равенство двух массивов:"
   ]
  },
  {
   "cell_type": "code",
   "execution_count": 33,
   "metadata": {},
   "outputs": [],
   "source": [
    "def arrays_equal(a1, a2):\n",
    "    diff = a1 - a2\n",
    "    return np.sum(np.abs(diff)) < 1e-10, diff"
   ]
  },
  {
   "cell_type": "markdown",
   "metadata": {},
   "source": [
    "Делаем LU-разложение матрицы, проверяем, что оно выполнено верно; используя полученное разложение, находим решение СЛАУ и проверяем его. Далее находим решение второй СЛАУ."
   ]
  },
  {
   "cell_type": "code",
   "execution_count": 34,
   "metadata": {},
   "outputs": [
    {
     "name": "stdout",
     "output_type": "stream",
     "text": [
      "Исходная матрица A:\n",
      " [[ 1  2  3]\n",
      " [ 4  5  6]\n",
      " [ 7  8 10]]\n",
      "LU-разложение:\n",
      "матрица L:\n",
      " [[1. 0. 0.]\n",
      " [4. 1. 0.]\n",
      " [7. 2. 1.]]\n",
      "матрица U:\n",
      " [[ 1.  2.  3.]\n",
      " [ 0. -3. -6.]\n",
      " [ 0.  0.  1.]]\n",
      "матрица LU:\n",
      " [[ 1.  2.  3.]\n",
      " [ 4. -3. -6.]\n",
      " [ 7.  2.  1.]]\n",
      "Проверка LU-разложения:\n",
      "произведение матриц L * U:\n",
      " [[ 1.  2.  3.]\n",
      " [ 4.  5.  6.]\n",
      " [ 7.  8. 10.]]\n",
      "проверка: есть ли несовпадение между A и L*U ?\n",
      " разница\n",
      " [[0. 0. 0.]\n",
      " [0. 0. 0.]\n",
      " [0. 0. 0.]]\n",
      "L*U = A, разложение выполнено правильно\n",
      "Исходный столбец b:\n",
      " [3 8 5]\n",
      "Решение СЛАУ x:\n",
      " [-7.66666667 17.33333333 -8.        ]\n",
      "Проверка решения:\n",
      "Произведение A * x:\n",
      " [3. 8. 5.]\n",
      "проверка: есть ли несовпадение между A*x и b ?\n",
      " разница [0. 0. 0.]\n",
      "A*x = b, получено правильное решение\n",
      "\n",
      "Исходная матрица A2:\n",
      " [[ 6.3  -4.    3.7   8.  ]\n",
      " [ 9.1   7.    0.    2.2 ]\n",
      " [ 4.75 -3.    5.66  6.  ]\n",
      " [ 6.    5.   -6.18  2.  ]]\n",
      "Исходный столбец b2:\n",
      " [2 6 3 8]\n",
      "Решение СЛАУ x2:\n",
      " [-6.92183667  7.04156692  0.57991193  8.95352057]\n",
      "Произведение A2 * x2:\n",
      " [2. 6. 3. 8.]\n",
      "A2*x2 = b2, получено правильное решение\n"
     ]
    }
   ],
   "source": [
    "A = np.array([[1, 2, 3], [4, 5, 6], [7, 8, 10]])\n",
    "\n",
    "print(\"Исходная матрица A:\\n\", A)\n",
    "\n",
    "LU = LU_decomposition(A)\n",
    "L, U = L_and_U(LU)\n",
    "\n",
    "print(\"LU-разложение:\")\n",
    "print(\"матрица L:\\n\", L)\n",
    "print(\"матрица U:\\n\", U)\n",
    "print(\"матрица LU:\\n\", LU)\n",
    "\n",
    "L_mult_U = np.dot(L, U)\n",
    "\n",
    "print(\"Проверка LU-разложения:\")\n",
    "print(\"произведение матриц L * U:\\n\", L_mult_U)\n",
    "arreq, difflu = arrays_equal(L_mult_U, A)\n",
    "print(\"проверка: есть ли несовпадение между A и L*U ?\\n разница\\n\", difflu)\n",
    "print(\"L*U = A, разложение выполнено правильно\" if arreq else \"Разложение неверное\")\n",
    "\n",
    "b = np.array([3, 8, 5])\n",
    "print(\"Исходный столбец b:\\n\", b)\n",
    "\n",
    "x = solve_LU(LU, b)\n",
    "print(\"Решение СЛАУ x:\\n\", x)\n",
    "\n",
    "print(\"Проверка решения:\")\n",
    "Ax = np.dot(A, x)\n",
    "print(\"Произведение A * x:\\n\", Ax)\n",
    "arreq, diffax = arrays_equal(Ax, b)\n",
    "print(\"проверка: есть ли несовпадение между A*x и b ?\\n разница\", diffax)\n",
    "print(\"A*x = b, получено правильное решение\" if arreq else \"Решение неверное\")\n",
    "\n",
    "A2 = np.array([[6.3, -4, 3.7, 8], [9.1, 7, 0, 2.2], [4.75, -3, 5.66, 6], [6, 5, -6.18, 2]])\n",
    "b2 = np.array([2, 6, 3, 8])\n",
    "x2 = decompose_to_LU_and_solve(A2, b2)\n",
    "Ax2 = np.dot(A2, x2)\n",
    "arreq, diffax2 = arrays_equal(Ax2, b2)\n",
    "print(\"\\nИсходная матрица A2:\\n\", A2)\n",
    "print(\"Исходный столбец b2:\\n\", b2)\n",
    "print(\"Решение СЛАУ x2:\\n\", x2)\n",
    "print(\"Произведение A2 * x2:\\n\", Ax2)\n",
    "print(\"A2*x2 = b2, получено правильное решение\" if arreq else \"Решение неверное\")\n"
   ]
  },
  {
   "cell_type": "markdown",
   "metadata": {},
   "source": [
    "# 2) Решение СЛАУ методом LUP-разложения"
   ]
  },
  {
   "cell_type": "markdown",
   "metadata": {},
   "source": [
    "LUP-разложение матрицы A - это представление матрицы A в виде произведения PA=LU, где L-нижняя треугольная матрица, U - верхняя треугольная или ступенчатая матрица, P- матрица перестановок (матрица перестановок - эта матрица, полученная из единичной матрицы перестановкой некоторых строк или столбцов)."
   ]
  },
  {
   "cell_type": "markdown",
   "metadata": {},
   "source": [
    "функция определения матрицы перестановок:"
   ]
  },
  {
   "cell_type": "code",
   "execution_count": 35,
   "metadata": {},
   "outputs": [],
   "source": [
    "def pivot_matrix(M):\n",
    "    m = M.shape[0]\n",
    "\n",
    "    PM = np.zeros([m, m], float)\n",
    "    for k in range(m):\n",
    "        PM[k, k] = 1.\n",
    "    \n",
    "    print(M)\n",
    "    for j in range(m):\n",
    "        row = j\n",
    "        v = M[j , j]\n",
    "        for k in range(j + 1, m):\n",
    "            if M[k , j] > v:\n",
    "                row = k\n",
    "                v = M[k , j]\n",
    "        if j != row:\n",
    "            PM[[j, row], :] = PM[[row, j], :]\n",
    "\n",
    "    return PM\n"
   ]
  },
  {
   "cell_type": "markdown",
   "metadata": {},
   "source": [
    "функция LUP-разложения матрицы коэффициентов:"
   ]
  },
  {
   "cell_type": "code",
   "execution_count": 36,
   "metadata": {},
   "outputs": [],
   "source": [
    "def LUP_decomposition(A):\n",
    "    P = pivot_matrix(A)\n",
    "    PA = np.dot(P, A)\n",
    "    LU = LU_decomposition(PA)\n",
    "    return LU, P"
   ]
  },
  {
   "cell_type": "markdown",
   "metadata": {},
   "source": [
    "функция для решения системы уравнений, исходя из полученного LUP-разложения:"
   ]
  },
  {
   "cell_type": "code",
   "execution_count": 37,
   "metadata": {},
   "outputs": [],
   "source": [
    "def solve_LU_P(LU, P, b):\n",
    "    Pb = np.dot(P, b)\n",
    "    return solve_LU(LU, Pb)"
   ]
  },
  {
   "cell_type": "markdown",
   "metadata": {},
   "source": [
    "функция для решения системы уравнений:"
   ]
  },
  {
   "cell_type": "code",
   "execution_count": 38,
   "metadata": {},
   "outputs": [],
   "source": [
    "def decompose_to_LUP_and_solve(A, b):\n",
    "    LU, P = LUP_decomposition(A)\n",
    "    return solve_LU_P(LU, P, b)"
   ]
  },
  {
   "cell_type": "markdown",
   "metadata": {},
   "source": [
    "Применяем метод LUP-раздожения: находим матрицу перестановок и соответствующее LU-разложение, проверяем, что разложение выполнено верно; используя полученное разложение, находим решение СЛАУ и проверяем его. Далее находим решение второй СЛАУ."
   ]
  },
  {
   "cell_type": "code",
   "execution_count": 39,
   "metadata": {},
   "outputs": [
    {
     "name": "stdout",
     "output_type": "stream",
     "text": [
      "Исходная матрица A:\n",
      " [[ 1  2  3]\n",
      " [ 4  5  6]\n",
      " [ 7  8 10]]\n",
      "[[ 1  2  3]\n",
      " [ 4  5  6]\n",
      " [ 7  8 10]]\n",
      "LUP-разложение:\n",
      "матрица P:\n",
      " [[0. 0. 1.]\n",
      " [1. 0. 0.]\n",
      " [0. 1. 0.]]\n",
      "матрица L:\n",
      " [[1.         0.         0.        ]\n",
      " [0.14285714 1.         0.        ]\n",
      " [0.57142857 0.5        1.        ]]\n",
      "матрица U:\n",
      " [[ 7.          8.         10.        ]\n",
      " [ 0.          0.85714286  1.57142857]\n",
      " [ 0.          0.         -0.5       ]]\n",
      "матрица LU:\n",
      " [[ 7.          8.         10.        ]\n",
      " [ 0.14285714  0.85714286  1.57142857]\n",
      " [ 0.57142857  0.5        -0.5       ]]\n",
      "Проверка LUP-разложения:\n",
      "произведение матриц P * A:\n",
      " [[ 7.  8. 10.]\n",
      " [ 1.  2.  3.]\n",
      " [ 4.  5.  6.]]\n",
      "произведение матриц L * U:\n",
      " [[ 7.  8. 10.]\n",
      " [ 1.  2.  3.]\n",
      " [ 4.  5.  6.]]\n",
      "проверка: есть ли несовпадение между P*A и L*U ?\n",
      " разница\n",
      " [[0. 0. 0.]\n",
      " [0. 0. 0.]\n",
      " [0. 0. 0.]]\n",
      "L*U = P*A, разложение выполнено правильно\n",
      "Исходный столбец b:\n",
      " [3 8 5]\n",
      "Решение СЛАУ x:\n",
      " [-7.66666667 17.33333333 -8.        ]\n",
      "Проверка решения:\n",
      "Произведение A * x:\n",
      " [3. 8. 5.]\n",
      "проверка: есть ли несовпадение между A*x и b ?\n",
      " разница [7.10542736e-15 7.10542736e-15 0.00000000e+00]\n",
      "A*x = b, получено правильное решение\n",
      "\n",
      "Исходная матрица A2:\n",
      " [[ 6.3  -4.    3.7   8.  ]\n",
      " [ 9.1   7.    0.    2.2 ]\n",
      " [ 4.75 -3.    5.66  6.  ]\n",
      " [ 6.    5.   -6.18  2.  ]]\n",
      "Исходный столбец b2:\n",
      " [2 6 3 8]\n",
      "[[ 6.3  -4.    3.7   8.  ]\n",
      " [ 9.1   7.    0.    2.2 ]\n",
      " [ 4.75 -3.    5.66  6.  ]\n",
      " [ 6.    5.   -6.18  2.  ]]\n",
      "Решение СЛАУ x2:\n",
      " [-6.92183667  7.04156692  0.57991193  8.95352057]\n",
      "Произведение A2 * x2:\n",
      " [2. 6. 3. 8.]\n",
      "A2*x2 = b2, получено правильное решение\n"
     ]
    }
   ],
   "source": [
    "print(\"Исходная матрица A:\\n\", A)\n",
    "\n",
    "LU, P = LUP_decomposition(A)\n",
    "L, U = L_and_U(LU)\n",
    "\n",
    "print(\"LUP-разложение:\")\n",
    "print(\"матрица P:\\n\", P)\n",
    "print(\"матрица L:\\n\", L)\n",
    "print(\"матрица U:\\n\", U)\n",
    "print(\"матрица LU:\\n\", LU)\n",
    "\n",
    "P_mult_A = np.dot(P, A)\n",
    "L_mult_U = np.dot(L, U)\n",
    "\n",
    "print(\"Проверка LUP-разложения:\")\n",
    "print(\"произведение матриц P * A:\\n\", P_mult_A)\n",
    "print(\"произведение матриц L * U:\\n\", L_mult_U)\n",
    "arreq, difflu = arrays_equal(L_mult_U, P_mult_A )\n",
    "print(\"проверка: есть ли несовпадение между P*A и L*U ?\\n разница\\n\", difflu)\n",
    "print(\"L*U = P*A, разложение выполнено правильно\" if arreq else \"Разложение неверное\")\n",
    "\n",
    "print(\"Исходный столбец b:\\n\", b)\n",
    "\n",
    "x = solve_LU_P(LU, P, b)\n",
    "print(\"Решение СЛАУ x:\\n\", x)\n",
    "\n",
    "print(\"Проверка решения:\")\n",
    "Ax = np.dot(A, x)\n",
    "print(\"Произведение A * x:\\n\", Ax)\n",
    "arreq, diffax = arrays_equal(Ax, b)\n",
    "print(\"проверка: есть ли несовпадение между A*x и b ?\\n разница\", diffax)\n",
    "print(\"A*x = b, получено правильное решение\" if arreq else \"Решение неверное\")\n",
    "\n",
    "print(\"\\nИсходная матрица A2:\\n\", A2)\n",
    "print(\"Исходный столбец b2:\\n\", b2)\n",
    "x2 = decompose_to_LUP_and_solve(A2, b2)\n",
    "Ax2 = np.dot(A2, x2)\n",
    "arreq, diffax2 = arrays_equal(Ax2, b2)\n",
    "print(\"Решение СЛАУ x2:\\n\", x2)\n",
    "print(\"Произведение A2 * x2:\\n\", Ax2)\n",
    "print(\"A2*x2 = b2, получено правильное решение\" if arreq else \"Решение неверное\")\n"
   ]
  },
  {
   "cell_type": "markdown",
   "metadata": {},
   "source": [
    "# Вывод:"
   ]
  },
  {
   "cell_type": "markdown",
   "metadata": {},
   "source": [
    "Не всегда можно проводить LU -разложение матрицы. Но LUP- разложение всегда возможно. LU-разложение подходит только для обратимой матрицы A и для невырожденных(угловых) главных миноров матрицы A."
   ]
  },
  {
   "cell_type": "code",
   "execution_count": null,
   "metadata": {},
   "outputs": [],
   "source": []
  },
  {
   "cell_type": "code",
   "execution_count": null,
   "metadata": {},
   "outputs": [],
   "source": []
  }
 ],
 "metadata": {
  "kernelspec": {
   "display_name": "Python 3",
   "language": "python",
   "name": "python3"
  },
  "language_info": {
   "codemirror_mode": {
    "name": "ipython",
    "version": 3
   },
   "file_extension": ".py",
   "mimetype": "text/x-python",
   "name": "python",
   "nbconvert_exporter": "python",
   "pygments_lexer": "ipython3",
   "version": "3.8.5"
  }
 },
 "nbformat": 4,
 "nbformat_minor": 4
}
