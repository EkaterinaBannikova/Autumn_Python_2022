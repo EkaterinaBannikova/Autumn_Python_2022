{
 "cells": [
  {
   "cell_type": "markdown",
   "metadata": {},
   "source": [
    "# Домашняя работа №5\n"
   ]
  },
  {
   "cell_type": "markdown",
   "metadata": {},
   "source": [
    "# Банникова Екатерина НПМбд-02-19"
   ]
  },
  {
   "cell_type": "markdown",
   "metadata": {},
   "source": [
    "# Решение СЛАУ методом LU-разложения и методом LUP-разложения"
   ]
  },
  {
   "cell_type": "markdown",
   "metadata": {},
   "source": [
    "## 1) Решение СЛАУ с применением LU-разложения"
   ]
  },
  {
   "cell_type": "markdown",
   "metadata": {},
   "source": [
    "LU-разложение — представление матрицы A в виде произведения двух матриц, A = LU, где U — верхняя треугольная матрица, а L —  нижняя унитреугольная, т. е. треугольная матрица с диагональными элементами, равными единице\n",
    "(существует также вариант метода, в котором требование унитреугольности накладывают на матрицу U, а не на L).\n",
    "LU-разложение используется для решения систем линейных уравнений, обращения матриц и вычисления определителя.\n",
    "Метод LU-разложения имеет ограничения: LU-разложение существует только в том случае, когда матрица A квадратная и невырожденная, причём все её ведущие (угловые) главные миноры отличны от нуля.\n",
    "Две треугольные матрицы: нижнюю L и верхнюю U — можно хранить совместно в одной квадратной матрице LU, без хранения диагонали матрицы L, элементы которой всегда равны единице."
   ]
  },
  {
   "cell_type": "code",
   "execution_count": null,
   "metadata": {},
   "outputs": [],
   "source": [
    "Для эффективного выполнения операция над матрицами и векторами используем возможности библиотеки numpy."
   ]
  },
  {
   "cell_type": "code",
   "execution_count": 4,
   "metadata": {},
   "outputs": [],
   "source": [
    "import numpy as np"
   ]
  },
  {
   "cell_type": "markdown",
   "metadata": {},
   "source": [
    "Выполнение LU-разложения матрицы удобно реализовать в виде функции, принимающей исходную квадратную матрицу и возвращающей квадратную матрице LU, в которой содержатся совместно матрица U и матрица L без единиц главной диагонали матрицы L:\n",
    "ниже главной диагонали матрицы LU размещаются элементы матрицы L, а выше и на диагонали — элементы матрицы U."
   ]
  },
  {
   "cell_type": "code",
   "execution_count": 5,
   "metadata": {},
   "outputs": [],
   "source": [
    "def LU_decomposition(A):\n",
    "    LU = np.array(A, float)\n",
    "    for k in range(LU.shape[0]-1):\n",
    "        LU[k+1:, k] /= LU[k, k]\n",
    "        LU[k+1:, k+1:] -= np.transpose([LU[k+1:, k]]) * LU[k, k+1:]\n",
    "    return LU"
   ]
  },
  {
   "cell_type": "markdown",
   "metadata": {},
   "source": [
    "Но прежде чем осуществлять LU-разложение, нужно проверить, возможно ли оно:"
   ]
  },
  {
   "cell_type": "code",
   "execution_count": 6,
   "metadata": {},
   "outputs": [],
   "source": [
    "def LU_decomposition_is_possible(A):\n",
    "    m = A.shape[0]\n",
    "    n = A.shape[1]\n",
    "    if m != n:\n",
    "        return False, \"LU-разложение невозможно: матрица не квадратная\"\n",
    "    if np.linalg.det(A) == 0:\n",
    "        return False, \"LU-разложение невозможно: матрица вырождена\"\n",
    "    for i in range(1, m):\n",
    "        if np.linalg.det(A[:i, :i]) == 0:\n",
    "            return False, \"LU-разложение невозможно: главный минор вырожден\"\n",
    "    return True, \"LU-разложение существует\""
   ]
  },
  {
   "cell_type": "markdown",
   "metadata": {},
   "source": [
    "СЛАУ Ax = b, представленная при помощи LU-разложения в виде системы LUx = b,\n",
    "решается последовательностью прямой подстановки, дающей решение системы Ly = b,\n",
    "и обратной подстановки, дающей решение системы Ux = y.\n",
    "Функция solve_LU вычисляет таким образом решение на основе полученного LU-разложения (в виде матрицы LU):"
   ]
  },
  {
   "cell_type": "code",
   "execution_count": 7,
   "metadata": {},
   "outputs": [],
   "source": [
    "def solve_LU(LU, b):\n",
    "    y = np.array(b, float)\n",
    "    for i in range(1, len(y)):\n",
    "        y[i] = b[i] - np.dot(LU[i, :i], y[:i])\n",
    "    x = np.array(y)\n",
    "    for i in range(len(y)-1, -1, -1):\n",
    "        x[i] = (y[i] - np.dot(LU[i, i+1:], x[i+1:])) / LU[i, i]\n",
    "    return x"
   ]
  },
  {
   "cell_type": "markdown",
   "metadata": {},
   "source": [
    "Следует предусмотреть также функцию, реализующую от начала до конца нахождение решения системы Ax = b:"
   ]
  },
  {
   "cell_type": "code",
   "execution_count": 8,
   "metadata": {},
   "outputs": [],
   "source": [
    "def decompose_to_LU_and_solve(A, b):\n",
    "    LU = LU_decomposition(A)\n",
    "    return solve_LU(LU, b)"
   ]
  },
  {
   "cell_type": "markdown",
   "metadata": {},
   "source": [
    "При решении системы используется объединённая матрица LU.\n",
    "Добавим также функцию, выделяющую две треугольные матрицы L и U из матрицы LU. Их можно использовать, чтобы протестировать правильность выполнения LU-разложения проверкой равенства A = L * U."
   ]
  },
  {
   "cell_type": "code",
   "execution_count": 9,
   "metadata": {},
   "outputs": [],
   "source": [
    "def L_and_U(LU):\n",
    "    L = np.array(LU, float)\n",
    "    U = np.array(LU, float)\n",
    "    for i in range(LU.shape[0]):\n",
    "        L[i, i] = 1\n",
    "        L[i, i+1:] = 0\n",
    "        U[i, :i] = 0\n",
    "    return L, U"
   ]
  },
  {
   "cell_type": "markdown",
   "metadata": {},
   "source": [
    "Кроме того, чтобы протестировать правильность нахождения решения, после получения вектора x будем проверять равенство Ax = b."
   ]
  },
  {
   "cell_type": "markdown",
   "metadata": {},
   "source": [
    "Помимо этого, для дополнительной проверки решения воспользуемся библиотекой scipy, сравнивая полученное решение с решением, полученным при помощи этой библиотеки."
   ]
  },
  {
   "cell_type": "code",
   "execution_count": 10,
   "metadata": {},
   "outputs": [],
   "source": [
    "import scipy.linalg"
   ]
  },
  {
   "cell_type": "markdown",
   "metadata": {},
   "source": [
    "Вспомогательная функция для сравнения двух векторов (проверка на совпадение):"
   ]
  },
  {
   "cell_type": "code",
   "execution_count": 11,
   "metadata": {},
   "outputs": [],
   "source": [
    "def compare_solutions(x1, x2):\n",
    "    if np.allclose(x1, x2):\n",
    "        return \"совпадают\"\n",
    "    else:\n",
    "        return \"НЕ СОВПАДАЮТ\""
   ]
  },
  {
   "cell_type": "markdown",
   "metadata": {},
   "source": [
    "Пусть СЛАУ задана матрицей коэффициентов"
   ]
  },
  {
   "cell_type": "code",
   "execution_count": 12,
   "metadata": {},
   "outputs": [],
   "source": [
    "A = np.array([\n",
    "               [1, 2, 3], \n",
    "               [4, 5, 6], \n",
    "               [7, 8, 10]  ])\n"
   ]
  },
  {
   "cell_type": "markdown",
   "metadata": {},
   "source": [
    "и вектором правой части"
   ]
  },
  {
   "cell_type": "code",
   "execution_count": 13,
   "metadata": {},
   "outputs": [],
   "source": [
    "b = np.array([  3,\n",
    "                8,\n",
    "                5   ])"
   ]
  },
  {
   "cell_type": "markdown",
   "metadata": {},
   "source": [
    "Проверям, существует ли LU-разложение матрицы A, находим это разложение и вычисляем решение СЛАУ — вектор x.\n",
    "При этом проверяем правильность LU-разложения (A = L * U) и\n",
    "то, что полученное решение действительно соответствует СЛАУ (A * x = b);\n",
    "а также сверяем полученное решение с результатом функции solve из набора функций линейной алгебры библиотеки scipy."
   ]
  },
  {
   "cell_type": "code",
   "execution_count": 14,
   "metadata": {},
   "outputs": [
    {
     "name": "stdout",
     "output_type": "stream",
     "text": [
      "LU-разложение существует\n",
      "LU-разложение:\n",
      "матрица L:\n",
      " [[1. 0. 0.]\n",
      " [4. 1. 0.]\n",
      " [7. 2. 1.]]\n",
      "матрица U:\n",
      " [[ 1.  2.  3.]\n",
      " [ 0. -3. -6.]\n",
      " [ 0.  0.  1.]]\n",
      "матрица LU:\n",
      " [[ 1.  2.  3.]\n",
      " [ 4. -3. -6.]\n",
      " [ 7.  2.  1.]]\n",
      "Проверка LU-разложения:\n",
      "произведение матриц L * U:\n",
      " [[ 1.  2.  3.]\n",
      " [ 4.  5.  6.]\n",
      " [ 7.  8. 10.]]\n",
      "L*U = A, разложение выполнено правильно\n",
      "Исходный столбец b:\n",
      " [3 8 5]\n",
      "Решение СЛАУ x:\n",
      " [-7.66666667 17.33333333 -8.        ]\n",
      "Проверка решения:\n",
      "произведение A * x:\n",
      " [3. 8. 5.]\n",
      "A*x = b, получено правильное решение\n",
      "Результат функции scipy.linalg.solve: [-7.66666667 17.33333333 -8.        ]\n",
      "Полученное решение и результат функции scipy.linalg.solve совпадают\n"
     ]
    }
   ],
   "source": [
    "possible, possible_or_not = LU_decomposition_is_possible(A) \n",
    "print(possible_or_not)\n",
    "\n",
    "if possible:\n",
    "    LU = LU_decomposition(A)\n",
    "    L, U = L_and_U(LU)\n",
    "\n",
    "    print(\"LU-разложение:\")\n",
    "    print(\"матрица L:\\n\", L)\n",
    "    print(\"матрица U:\\n\", U)\n",
    "    print(\"матрица LU:\\n\", LU)\n",
    "\n",
    "    L_mult_U = np.dot(L, U)\n",
    "\n",
    "    print(\"Проверка LU-разложения:\")\n",
    "    print(\"произведение матриц L * U:\\n\", L_mult_U)\n",
    "    arreq = np.allclose(L_mult_U, A)\n",
    "    print(\"L*U = A, разложение выполнено правильно\" if arreq else \"Разложение неверное\")\n",
    "\n",
    "    print(\"Исходный столбец b:\\n\", b)\n",
    "\n",
    "    x = solve_LU(LU, b)\n",
    "    print(\"Решение СЛАУ x:\\n\", x)\n",
    "\n",
    "    print(\"Проверка решения:\")\n",
    "    Ax = np.dot(A, x)\n",
    "    print(\"произведение A * x:\\n\", Ax)\n",
    "    arreq = np.allclose(Ax, b)\n",
    "    print(\"A*x = b, получено правильное решение\" if arreq else \"Решение неверное\")\n",
    "    \n",
    "    x_scipy = scipy.linalg.solve(A, b)\n",
    "    print(\"Результат функции scipy.linalg.solve:\", x_scipy)\n",
    "    print(\"Полученное решение и результат функции scipy.linalg.solve\", compare_solutions(x, x_scipy))"
   ]
  },
  {
   "cell_type": "markdown",
   "metadata": {},
   "source": [
    "Допустим, теперь требуется решить СЛАУ с той же самой матрицей коэффициентов, но с другим вектором правой части:"
   ]
  },
  {
   "cell_type": "code",
   "execution_count": 15,
   "metadata": {},
   "outputs": [],
   "source": [
    "bII = np.array([4, -3, 2])"
   ]
  },
  {
   "cell_type": "markdown",
   "metadata": {},
   "source": [
    "В этом случае решение может быть быстро получено с применением уже полученного LU-разложения:"
   ]
  },
  {
   "cell_type": "code",
   "execution_count": 16,
   "metadata": {},
   "outputs": [
    {
     "name": "stdout",
     "output_type": "stream",
     "text": [
      "Решение системы с той же матрицей А, но с другой правой частью bII = [ 4 -3  2] ,\n",
      "    равно [  3.33333333 -17.66666667  12.        ]\n",
      "Проверка решения:\n",
      "Произведение A * xII:\n",
      " [ 4. -3.  2.]\n",
      "A*xII = bII, получено правильное решение\n",
      "Результат функции scipy.linalg.solve: [  3.33333333 -17.66666667  12.        ]\n",
      "Полученное решение и результат функции scipy.linalg.solve совпадают\n"
     ]
    }
   ],
   "source": [
    "xII = solve_LU(LU, bII)\n",
    "print(\"Решение системы с той же матрицей А, но с другой правой частью bII =\", bII, \",\\n    равно\", xII)\n",
    "print(\"Проверка решения:\")\n",
    "AxII = np.dot(A, xII)\n",
    "print(\"Произведение A * xII:\\n\", AxII)\n",
    "arreq = np.allclose(AxII, bII)\n",
    "print(\"A*xII = bII, получено правильное решение\" if arreq else \"Решение неверное\")\n",
    "x_scipy = scipy.linalg.solve(A, bII)\n",
    "print(\"Результат функции scipy.linalg.solve:\", x_scipy)\n",
    "print(\"Полученное решение и результат функции scipy.linalg.solve\", compare_solutions(xII, x_scipy))"
   ]
  },
  {
   "cell_type": "markdown",
   "metadata": {},
   "source": [
    "Решение другой системы (с другой матрицей и другим вектором):"
   ]
  },
  {
   "cell_type": "code",
   "execution_count": 17,
   "metadata": {},
   "outputs": [
    {
     "name": "stdout",
     "output_type": "stream",
     "text": [
      "Исходная матрица A2:\n",
      " [[ 6.3  -4.    3.7   8.  ]\n",
      " [ 9.1   7.    0.    2.2 ]\n",
      " [ 4.75 -3.    5.66  6.  ]\n",
      " [ 6.    5.   -6.18  2.  ]]\n",
      "LU-разложение существует\n",
      "Исходный столбец b2:\n",
      " [2 6 3 8]\n",
      "Решение СЛАУ x2:\n",
      " [-6.92183667  7.04156692  0.57991193  8.95352057]\n",
      "Произведение A2 * x2:\n",
      " [2. 6. 3. 8.]\n",
      "A2*x2 = b2, получено правильное решение\n",
      "Результат функции scipy.linalg.solve: [-6.92183667  7.04156692  0.57991193  8.95352057]\n",
      "Полученное решение и результат функции scipy.linalg.solve совпадают\n"
     ]
    }
   ],
   "source": [
    "A2 = np.array([[6.3, -4, 3.7, 8], [9.1, 7, 0, 2.2], [4.75, -3, 5.66, 6], [6, 5, -6.18, 2]])\n",
    "\n",
    "print(\"Исходная матрица A2:\\n\", A2)\n",
    "\n",
    "possible, possible_or_not = LU_decomposition_is_possible(A2) \n",
    "print(possible_or_not)\n",
    "\n",
    "if possible:\n",
    "    b2 = np.array([2, 6, 3, 8])\n",
    "    x2 = decompose_to_LU_and_solve(A2, b2)\n",
    "    Ax2 = np.dot(A2, x2)\n",
    "    arreq = np.allclose(Ax2, b2)\n",
    "    print(\"Исходный столбец b2:\\n\", b2)\n",
    "    print(\"Решение СЛАУ x2:\\n\", x2)\n",
    "    print(\"Произведение A2 * x2:\\n\", Ax2)\n",
    "    print(\"A2*x2 = b2, получено правильное решение\" if arreq else \"Решение неверное\")\n",
    "    x_scipy = scipy.linalg.solve(A2, b2)\n",
    "    print(\"Результат функции scipy.linalg.solve:\", x_scipy)\n",
    "    print(\"Полученное решение и результат функции scipy.linalg.solve\", compare_solutions(x2, x_scipy))\n"
   ]
  },
  {
   "cell_type": "markdown",
   "metadata": {},
   "source": [
    "## 2) Решение СЛАУ с применением LUP-разложения"
   ]
  },
  {
   "cell_type": "markdown",
   "metadata": {},
   "source": [
    "Ограничения, присущие методу LU-разложения, удаётся преодолеть, применяя перестановку строк матрицы A (и соответствующую перестановку элементов вектора b) таким образом, чтобы LU-разложение существовало.\n",
    "Этот подход реализуется методом LUP-разложения.\n",
    "LUP-разложение матрицы A — это представление матрицы A в виде произведения P * A = L * U,\n",
    "где L — нижняя унитреугольная матрица, U - верхняя треугольная матрица, P — матрица перестановок (матрица перестановок — это матрица, полученная из единичной матрицы перестановкой некоторых строк или столбцов)."
   ]
  },
  {
   "cell_type": "markdown",
   "metadata": {},
   "source": [
    "Матрица перестановок P строится (из единичной матрицы) в процессе Гауссового исключения с перестановкой строк таким образом, чтобы при приведении матрицы A к ступенчатому виду на каждом j-м шаге — вверху оставшейся для обработки части j-го столбца (т.е. в элементе в j-й строке и j-м столбце) оказывался максимальный элемент среди элементов этого столбца в строках, начиная с j-й и ниже. При перестановке строк в матрице A переставляются соответственно и строки в матрице P.\n",
    "Получение матрицы перестановок реализовано в виде следующей функции:"
   ]
  },
  {
   "cell_type": "code",
   "execution_count": 18,
   "metadata": {},
   "outputs": [],
   "source": [
    "def pivot_matrix(A):\n",
    "    M = np.array(A, float)\n",
    "    m = M.shape[0]\n",
    "    P = np.eye(m)\n",
    "    for j in range(m):\n",
    "        c = np.abs(M[j:, j])\n",
    "        row = np.argmax(c) + j\n",
    "        if j != row:\n",
    "            P[[j, row], :] = P[[row, j], :]\n",
    "            M[[j, row], :] = M[[row, j], :]\n",
    "        if M[j, j] != 0:\n",
    "            for r in range(j + 1, m):\n",
    "                M[r, :] -= M[j, :] * M[r, j] / M[j, j]\n",
    "    return P"
   ]
  },
  {
   "cell_type": "markdown",
   "metadata": {},
   "source": [
    "В случае когда матрица коэффициентов квадратная, получив матрицу перестановок P, получить матрицу LU можно, воспользовавшись функцией LU-разложения и передав ей произведение матриц P и A:"
   ]
  },
  {
   "cell_type": "code",
   "execution_count": 19,
   "metadata": {},
   "outputs": [],
   "source": [
    "def LUP_decomposition(A):\n",
    "    P = pivot_matrix(A)\n",
    "    PA = np.dot(P, A)\n",
    "    LU = LU_decomposition(PA)\n",
    "    return LU, P"
   ]
  },
  {
   "cell_type": "markdown",
   "metadata": {},
   "source": [
    "Соответственно, вот функция для решения системы уравнений, исходя из полученного LUP-разложения\n",
    "(внутри неё используется функция solve_LU, которой передаются матрица LU и произведение P * b):"
   ]
  },
  {
   "cell_type": "code",
   "execution_count": 20,
   "metadata": {},
   "outputs": [],
   "source": [
    "def solve_LU_P(LU, P, b):\n",
    "    Pb = np.dot(P, b)\n",
    "    return solve_LU(LU, Pb)"
   ]
  },
  {
   "cell_type": "markdown",
   "metadata": {},
   "source": [
    "Функция для решения системы уравнений:"
   ]
  },
  {
   "cell_type": "code",
   "execution_count": 21,
   "metadata": {},
   "outputs": [],
   "source": [
    "def decompose_to_LUP_and_solve(A, b):\n",
    "    LU, P = LUP_decomposition(A)\n",
    "    return solve_LU_P(LU, P, b)"
   ]
  },
  {
   "cell_type": "markdown",
   "metadata": {},
   "source": [
    "Функции для того, чтобы было удобнее сверять полученное LUP-разложение и решение с результатами функций библиотеки scipy:"
   ]
  },
  {
   "cell_type": "code",
   "execution_count": 22,
   "metadata": {},
   "outputs": [],
   "source": [
    "def scipy_linalg_results(A, b):\n",
    "    LU, P1 = scipy.linalg.lu_factor(A)\n",
    "    P, L, U = scipy.linalg.lu(A)\n",
    "    x = scipy.linalg.solve(A, b)\n",
    "    return np.transpose(P), L, U, LU, x\n",
    "\n",
    "def compare_results(P1, L1, U1, LU1, x1, P2, L2, U2, LU2, x2):\n",
    "    if np.allclose(P1, P2) and \\\n",
    "       np.allclose(L1, L2) and \\\n",
    "       np.allclose(U1, U2) and \\\n",
    "       np.allclose(LU11, LU2) and \\\n",
    "       np.allclose(x1, x2):\n",
    "          return \"совпадают\"\n",
    "    else:\n",
    "          return \"НЕ СОВПАДАЮТ\""
   ]
  },
  {
   "cell_type": "markdown",
   "metadata": {},
   "source": [
    "Здесь учтена особенность функции scipy.linalg.lu:\n",
    "https://docs.scipy.org/doc/scipy/reference/generated/scipy.linalg.lu.html\n",
    "\n",
    "  Examples ...\n",
    "  \n",
    ". >>> p, l, u = lu(A)\n",
    "\n",
    ". >>> np.allclose(A - p @ l @ u, np.zeros((4, 4)))\n",
    "\n",
    "  True\n",
    "  \n",
    "Видим, что scipy.linalg.lu выдаёт матрицу P, соответствующую равенству A = P * L * U.\n",
    "Соответственно, чтобы получить матрицу P, соответствующую нашему равенству P * A = L * U,\n",
    "матрицу P из результатов scipy.linalg.lu нужно транспонировать, что и делаем."
   ]
  },
  {
   "cell_type": "markdown",
   "metadata": {},
   "source": [
    "Применяем метод LUP-раздожения: находим матрицу перестановок и соответствующее LU-разложение, проверяем, что разложение выполнено верно; используя полученное разложение, находим решение СЛАУ и проверяем его. Далее находим решение второй СЛАУ."
   ]
  },
  {
   "cell_type": "code",
   "execution_count": 23,
   "metadata": {},
   "outputs": [
    {
     "name": "stdout",
     "output_type": "stream",
     "text": [
      "Исходная матрица A:\n",
      " [[ 1  2  3]\n",
      " [ 4  5  6]\n",
      " [ 7  8 10]]\n",
      "LUP-разложение:\n",
      "матрица P:\n",
      " [[0. 0. 1.]\n",
      " [1. 0. 0.]\n",
      " [0. 1. 0.]]\n",
      "матрица L:\n",
      " [[1.         0.         0.        ]\n",
      " [0.14285714 1.         0.        ]\n",
      " [0.57142857 0.5        1.        ]]\n",
      "матрица U:\n",
      " [[ 7.          8.         10.        ]\n",
      " [ 0.          0.85714286  1.57142857]\n",
      " [ 0.          0.         -0.5       ]]\n",
      "матрица LU:\n",
      " [[ 7.          8.         10.        ]\n",
      " [ 0.14285714  0.85714286  1.57142857]\n",
      " [ 0.57142857  0.5        -0.5       ]]\n",
      "Проверка LUP-разложения:\n",
      "произведение матриц P * A:\n",
      " [[ 7.  8. 10.]\n",
      " [ 1.  2.  3.]\n",
      " [ 4.  5.  6.]]\n",
      "произведение матриц L * U:\n",
      " [[ 7.  8. 10.]\n",
      " [ 1.  2.  3.]\n",
      " [ 4.  5.  6.]]\n",
      "L*U = P*A, разложение выполнено правильно\n",
      "Исходный столбец b:\n",
      " [3 8 5]\n",
      "Решение СЛАУ x:\n",
      " [-7.66666667 17.33333333 -8.        ]\n",
      "Проверка решения:\n",
      "произведение A * x:\n",
      " [3. 8. 5.]\n",
      "A*x = b, получено правильное решение\n",
      "Результаты LUP-разложения матрицы и решения системы функциями библиотеки scipy.linalg:\n",
      " P   (scipy.linalg.lu):\n",
      " [[0. 0. 1.]\n",
      " [1. 0. 0.]\n",
      " [0. 1. 0.]]\n",
      " L   (scipy.linalg.lu):\n",
      " [[1.         0.         0.        ]\n",
      " [0.14285714 1.         0.        ]\n",
      " [0.57142857 0.5        1.        ]]\n",
      " U   (scipy.linalg.lu):\n",
      " [[ 7.          8.         10.        ]\n",
      " [ 0.          0.85714286  1.57142857]\n",
      " [ 0.          0.         -0.5       ]]\n",
      " LU   (scipy.linalg.lu_factor):\n",
      " [[ 7.          8.         10.        ]\n",
      " [ 0.14285714  0.85714286  1.57142857]\n",
      " [ 0.57142857  0.5        -0.5       ]]\n",
      " x   (scipy.linalg.solve):  [-7.66666667 17.33333333 -8.        ]\n",
      "Полученное решение и результат функции scipy.linalg.solve совпадают\n"
     ]
    }
   ],
   "source": [
    "print(\"Исходная матрица A:\\n\", A)\n",
    "\n",
    "LU, P = LUP_decomposition(A)\n",
    "L, U = L_and_U(LU)\n",
    "\n",
    "print(\"LUP-разложение:\")\n",
    "print(\"матрица P:\\n\", P)\n",
    "print(\"матрица L:\\n\", L)\n",
    "print(\"матрица U:\\n\", U)\n",
    "print(\"матрица LU:\\n\", LU)\n",
    "\n",
    "P_mult_A = np.dot(P, A)\n",
    "L_mult_U = np.dot(L, U)\n",
    "\n",
    "print(\"Проверка LUP-разложения:\")\n",
    "print(\"произведение матриц P * A:\\n\", P_mult_A)\n",
    "print(\"произведение матриц L * U:\\n\", L_mult_U)\n",
    "arreq = np.allclose(L_mult_U, P_mult_A )\n",
    "print(\"L*U = P*A, разложение выполнено правильно\" if arreq else \"Разложение неверное\")\n",
    "\n",
    "print(\"Исходный столбец b:\\n\", b)\n",
    "\n",
    "x = solve_LU_P(LU, P, b)\n",
    "print(\"Решение СЛАУ x:\\n\", x)\n",
    "\n",
    "print(\"Проверка решения:\")\n",
    "Ax = np.dot(A, x)\n",
    "print(\"произведение A * x:\\n\", Ax)\n",
    "arreq = np.allclose(Ax, b)\n",
    "print(\"A*x = b, получено правильное решение\" if arreq else \"Решение неверное\")\n",
    "\n",
    "P_scipy, L_scipy, U_scipy, LU_scipy, x_scipy = scipy_linalg_results(A, b)\n",
    "print(\"Результаты LUP-разложения матрицы и решения системы функциями библиотеки scipy.linalg:\")\n",
    "print(\" P   (scipy.linalg.lu):\\n\", P_scipy)\n",
    "print(\" L   (scipy.linalg.lu):\\n\", L_scipy)\n",
    "print(\" U   (scipy.linalg.lu):\\n\", U_scipy)\n",
    "print(\" LU   (scipy.linalg.lu_factor):\\n\", LU_scipy)\n",
    "print(\" x   (scipy.linalg.solve): \", x_scipy)\n",
    "print(\"Полученное решение и результат функции scipy.linalg.solve\", compare_solutions(x, x_scipy))"
   ]
  },
  {
   "cell_type": "code",
   "execution_count": 24,
   "metadata": {},
   "outputs": [
    {
     "name": "stdout",
     "output_type": "stream",
     "text": [
      "Исходная матрица A2:\n",
      " [[ 6.3  -4.    3.7   8.  ]\n",
      " [ 9.1   7.    0.    2.2 ]\n",
      " [ 4.75 -3.    5.66  6.  ]\n",
      " [ 6.    5.   -6.18  2.  ]]\n",
      "Исходный столбец b2:\n",
      " [2 6 3 8]\n",
      "Решение СЛАУ x2:\n",
      " [-6.92183667  7.04156692  0.57991193  8.95352057]\n",
      "Произведение A2 * x2:\n",
      " [2. 6. 3. 8.]\n",
      "A2*x2 = b2, получено правильное решение\n",
      "Результат функции scipy.linalg.solve: [-6.92183667  7.04156692  0.57991193  8.95352057]\n",
      "Полученное решение и результат функции scipy.linalg.solve совпадают\n"
     ]
    }
   ],
   "source": [
    "print(\"Исходная матрица A2:\\n\", A2)\n",
    "print(\"Исходный столбец b2:\\n\", b2)\n",
    "x2 = decompose_to_LUP_and_solve(A2, b2)\n",
    "Ax2 = np.dot(A2, x2)\n",
    "arreq = np.allclose(Ax2, b2)\n",
    "print(\"Решение СЛАУ x2:\\n\", x2)\n",
    "print(\"Произведение A2 * x2:\\n\", Ax2)\n",
    "print(\"A2*x2 = b2, получено правильное решение\" if arreq else \"Решение неверное\")\n",
    "x_scipy = scipy.linalg.solve(A2, b2)\n",
    "print(\"Результат функции scipy.linalg.solve:\", x_scipy)\n",
    "print(\"Полученное решение и результат функции scipy.linalg.solve\", compare_solutions(x2, x_scipy))"
   ]
  },
  {
   "cell_type": "markdown",
   "metadata": {},
   "source": [
    "Проверим возможность применения методов LU-разложения и LUP-разложения к следующей матрице:"
   ]
  },
  {
   "cell_type": "code",
   "execution_count": 26,
   "metadata": {},
   "outputs": [
    {
     "name": "stdout",
     "output_type": "stream",
     "text": [
      "Исходная матрица A3:\n",
      " [[ 1 -3  7]\n",
      " [ 0  0  2]\n",
      " [ 2  5 -1]]\n"
     ]
    }
   ],
   "source": [
    "A3 = np.array([[1, -3, 7], [0, 0, 2], [2, 5, -1]])\n",
    "print(\"Исходная матрица A3:\\n\", A3)"
   ]
  },
  {
   "cell_type": "code",
   "execution_count": 27,
   "metadata": {},
   "outputs": [
    {
     "name": "stdout",
     "output_type": "stream",
     "text": [
      "LU-разложение невозможно: главный минор вырожден\n"
     ]
    }
   ],
   "source": [
    "possible, possible_or_not = LU_decomposition_is_possible(A3) \n",
    "print(possible_or_not)"
   ]
  },
  {
   "cell_type": "markdown",
   "metadata": {},
   "source": [
    "Получить LU-разложение для этой матрицы невозможно."
   ]
  },
  {
   "cell_type": "markdown",
   "metadata": {},
   "source": [
    "Получаем LUP-разложение этой матрицы и решаем СЛАУ:"
   ]
  },
  {
   "cell_type": "code",
   "execution_count": 28,
   "metadata": {},
   "outputs": [
    {
     "name": "stdout",
     "output_type": "stream",
     "text": [
      "LUP-разложение:\n",
      "матрица P:\n",
      " [[0. 0. 1.]\n",
      " [1. 0. 0.]\n",
      " [0. 1. 0.]]\n",
      "матрица L:\n",
      " [[ 1.   0.   0. ]\n",
      " [ 0.5  1.   0. ]\n",
      " [ 0.  -0.   1. ]]\n",
      "матрица U:\n",
      " [[ 2.   5.  -1. ]\n",
      " [ 0.  -5.5  7.5]\n",
      " [ 0.   0.   2. ]]\n",
      "матрица LU:\n",
      " [[ 2.   5.  -1. ]\n",
      " [ 0.5 -5.5  7.5]\n",
      " [ 0.  -0.   2. ]]\n",
      "Проверка LUP-разложения:\n",
      "произведение матриц P * A3:\n",
      " [[ 2.  5. -1.]\n",
      " [ 1. -3.  7.]\n",
      " [ 0.  0.  2.]]\n",
      "произведение матриц L * U:\n",
      " [[ 2.  5. -1.]\n",
      " [ 1. -3.  7.]\n",
      " [ 0.  0.  2.]]\n",
      "L*U = P*A3, разложение выполнено правильно\n",
      "Исходный столбец b:\n",
      " [3 8 5]\n",
      "Решение СЛАУ x3:\n",
      " [-8.90909091  5.36363636  4.        ]\n",
      "Проверка решения:\n",
      "произведение A3 * x3:\n",
      " [3. 8. 5.]\n",
      "A3*x3 = b, получено правильное решение\n",
      "Результаты LUP-разложения матрицы и решения системы функциями библиотеки scipy.linalg:\n",
      " P   (scipy.linalg.lu):\n",
      " [[0. 0. 1.]\n",
      " [1. 0. 0.]\n",
      " [0. 1. 0.]]\n",
      " L   (scipy.linalg.lu):\n",
      " [[ 1.   0.   0. ]\n",
      " [ 0.5  1.   0. ]\n",
      " [ 0.  -0.   1. ]]\n",
      " U   (scipy.linalg.lu):\n",
      " [[ 2.   5.  -1. ]\n",
      " [ 0.  -5.5  7.5]\n",
      " [ 0.   0.   2. ]]\n",
      " LU   (scipy.linalg.lu_factor):\n",
      " [[ 2.   5.  -1. ]\n",
      " [ 0.5 -5.5  7.5]\n",
      " [ 0.  -0.   2. ]]\n",
      " x   (scipy.linalg.solve):  [-8.90909091  5.36363636  4.        ]\n",
      "Полученное решение и результат функции scipy.linalg.solve совпадают\n"
     ]
    }
   ],
   "source": [
    "LU, P = LUP_decomposition(A3)\n",
    "L, U = L_and_U(LU)\n",
    "\n",
    "print(\"LUP-разложение:\")\n",
    "print(\"матрица P:\\n\", P)\n",
    "print(\"матрица L:\\n\", L)\n",
    "print(\"матрица U:\\n\", U)\n",
    "print(\"матрица LU:\\n\", LU)\n",
    "\n",
    "P_mult_A = np.dot(P, A3)\n",
    "L_mult_U = np.dot(L, U)\n",
    "\n",
    "print(\"Проверка LUP-разложения:\")\n",
    "print(\"произведение матриц P * A3:\\n\", P_mult_A)\n",
    "print(\"произведение матриц L * U:\\n\", L_mult_U)\n",
    "arreq = np.allclose(L_mult_U, P_mult_A )\n",
    "print(\"L*U = P*A3, разложение выполнено правильно\" if arreq else \"Разложение неверное\")\n",
    "\n",
    "print(\"Исходный столбец b:\\n\", b)\n",
    "\n",
    "x3 = solve_LU_P(LU, P, b)\n",
    "print(\"Решение СЛАУ x3:\\n\", x3)\n",
    "\n",
    "print(\"Проверка решения:\")\n",
    "Ax3 = np.dot(A3, x3)\n",
    "print(\"произведение A3 * x3:\\n\", Ax)\n",
    "arreq = np.allclose(Ax3, b)\n",
    "print(\"A3*x3 = b, получено правильное решение\" if arreq else \"Решение неверное\")\n",
    "\n",
    "P_scipy, L_scipy, U_scipy, LU_scipy, x_scipy = scipy_linalg_results(A3, b)\n",
    "print(\"Результаты LUP-разложения матрицы и решения системы функциями библиотеки scipy.linalg:\")\n",
    "print(\" P   (scipy.linalg.lu):\\n\", P_scipy)\n",
    "print(\" L   (scipy.linalg.lu):\\n\", L_scipy)\n",
    "print(\" U   (scipy.linalg.lu):\\n\", U_scipy)\n",
    "print(\" LU   (scipy.linalg.lu_factor):\\n\", LU_scipy)\n",
    "print(\" x   (scipy.linalg.solve): \", x_scipy)\n",
    "print(\"Полученное решение и результат функции scipy.linalg.solve\", compare_solutions(x3, x_scipy))"
   ]
  },
  {
   "cell_type": "markdown",
   "metadata": {},
   "source": [
    "Решим СЛАУ со случайной матрицей 3x3.\n",
    "Решение методом LU-разложения получаем в том случае, если LU-разложение существует.\n",
    "Решение методом LU-разложения получаем в любом случае."
   ]
  },
  {
   "cell_type": "code",
   "execution_count": 31,
   "metadata": {},
   "outputs": [
    {
     "name": "stdout",
     "output_type": "stream",
     "text": [
      "Исходная матрица A4:\n",
      " [[-3  0  0]\n",
      " [-6  0 -3]\n",
      " [-5 -8 -8]]\n",
      "Исходный столбец b:\n",
      " [ 9  7 -9]\n",
      "LU-разложение невозможно: главный минор вырожден\n",
      "Решение СЛАУ с помощью LUP-разложения x4:\n",
      " [-3.         -0.66666667  3.66666667]\n",
      "Произведение A4 * x4:\n",
      " [ 9.  7. -9.]\n",
      "A4*x4 = b4, получено правильное решение\n",
      "Результат функции scipy.linalg.solve: [-3.         -0.66666667  3.66666667]\n",
      "Полученное решение и результат функции scipy.linalg.solve совпадают\n"
     ]
    }
   ],
   "source": [
    "A4 = np.array([np.random.randint(-10, 10, 3),\n",
    "               np.random.randint(-10, 10, 3),\n",
    "               np.random.randint(-10, 10, 3)])\n",
    "b4 = np.array(np.random.randint(-10, 10, 3))\n",
    "print(\"Исходная матрица A4:\\n\", A4)\n",
    "print(\"Исходный столбец b:\\n\", b4)\n",
    "possible, possible_or_not = LU_decomposition_is_possible(A4) \n",
    "print(possible_or_not)\n",
    "if possible:\n",
    "    x41 = decompose_to_LU_and_solve(A4, b4)\n",
    "    Ax4 = np.dot(A4, x41)\n",
    "    arreq = np.allclose(Ax4, b4)\n",
    "    print(\"Решение СЛАУ с помощью LU-разложения x41:\\n\", x41)\n",
    "    print(\"Произведение A4 * x41:\\n\", Ax4)\n",
    "    print(\"A4*x41 = b4, получено правильное решение\" if arreq else \"Решение неверное\")\n",
    "    x_scipy = scipy.linalg.solve(A4, b4)\n",
    "    print(\"Результат функции scipy.linalg.solve:\", x_scipy)\n",
    "    print(\"Полученное решение и результат функции scipy.linalg.solve\", compare_solutions(x41, x_scipy))\n",
    "x4 = decompose_to_LUP_and_solve(A4, b4)\n",
    "Ax4 = np.dot(A4, x4)\n",
    "arreq = np.allclose(Ax4, b4)\n",
    "print(\"Решение СЛАУ с помощью LUP-разложения x4:\\n\", x4)\n",
    "print(\"Произведение A4 * x4:\\n\", Ax4)\n",
    "print(\"A4*x4 = b4, получено правильное решение\" if arreq else \"Решение неверное\")\n",
    "x_scipy = scipy.linalg.solve(A4, b4)\n",
    "print(\"Результат функции scipy.linalg.solve:\", x_scipy)\n",
    "print(\"Полученное решение и результат функции scipy.linalg.solve\", compare_solutions(x4, x_scipy))"
   ]
  },
  {
   "cell_type": "markdown",
   "metadata": {},
   "source": [
    "# Вывод:"
   ]
  },
  {
   "cell_type": "markdown",
   "metadata": {},
   "source": [
    "Применительно к задаче решения СЛАУ — LU-разложение и LUP-разложение дают особый выигрыш, когда нужно находить решение нескольких СЛАУ с одинаковой матрицей коэффициентов, но различающихся правой частью.\n",
    "Не всегда возможно произвести LU-разложение матрицы. Но LUP-разложение всегда возможно. LU-разложение подходит только для обратимой матрицы A с невырожденными угловыми главными минорами.\n",
    "Существование LU-разложения можно проверить, но, по видимости, на практике стоит использовать метод LU-разложение в случаях, если заведомо известно, что для данных матриц оно существует. В общем случае целесообразно применять метод LUP-разложения."
   ]
  }
 ],
 "metadata": {
  "kernelspec": {
   "display_name": "Python 3",
   "language": "python",
   "name": "python3"
  },
  "language_info": {
   "codemirror_mode": {
    "name": "ipython",
    "version": 3
   },
   "file_extension": ".py",
   "mimetype": "text/x-python",
   "name": "python",
   "nbconvert_exporter": "python",
   "pygments_lexer": "ipython3",
   "version": "3.8.5"
  }
 },
 "nbformat": 4,
 "nbformat_minor": 4
}
